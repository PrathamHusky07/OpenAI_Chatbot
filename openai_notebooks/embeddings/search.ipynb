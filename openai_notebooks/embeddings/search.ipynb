{
 "cells": [
  {
   "cell_type": "markdown",
   "metadata": {},
   "source": [
    "# Question Answer Using Embedding Based Search"
   ]
  },
  {
   "cell_type": "markdown",
   "metadata": {},
   "source": [
    "### Preamble"
   ]
  },
  {
   "cell_type": "code",
   "execution_count": 1,
   "metadata": {},
   "outputs": [
    {
     "name": "stdout",
     "output_type": "stream",
     "text": [
      "Requirement already satisfied: tiktoken in /Users/prathamesh/Desktop/Github/Assignment-2/.venv/lib/python3.11/site-packages (0.5.1)\n",
      "Requirement already satisfied: regex>=2022.1.18 in /Users/prathamesh/Desktop/Github/Assignment-2/.venv/lib/python3.11/site-packages (from tiktoken) (2023.10.3)\n",
      "Requirement already satisfied: requests>=2.26.0 in /Users/prathamesh/Desktop/Github/Assignment-2/.venv/lib/python3.11/site-packages (from tiktoken) (2.31.0)\n",
      "Requirement already satisfied: charset-normalizer<4,>=2 in /Users/prathamesh/Desktop/Github/Assignment-2/.venv/lib/python3.11/site-packages (from requests>=2.26.0->tiktoken) (3.3.0)\n",
      "Requirement already satisfied: idna<4,>=2.5 in /Users/prathamesh/Desktop/Github/Assignment-2/.venv/lib/python3.11/site-packages (from requests>=2.26.0->tiktoken) (3.4)\n",
      "Requirement already satisfied: urllib3<3,>=1.21.1 in /Users/prathamesh/Desktop/Github/Assignment-2/.venv/lib/python3.11/site-packages (from requests>=2.26.0->tiktoken) (2.0.6)\n",
      "Requirement already satisfied: certifi>=2017.4.17 in /Users/prathamesh/Desktop/Github/Assignment-2/.venv/lib/python3.11/site-packages (from requests>=2.26.0->tiktoken) (2023.7.22)\n",
      "\n",
      "\u001b[1m[\u001b[0m\u001b[34;49mnotice\u001b[0m\u001b[1;39;49m]\u001b[0m\u001b[39;49m A new release of pip is available: \u001b[0m\u001b[31;49m23.1.2\u001b[0m\u001b[39;49m -> \u001b[0m\u001b[32;49m23.3\u001b[0m\n",
      "\u001b[1m[\u001b[0m\u001b[34;49mnotice\u001b[0m\u001b[1;39;49m]\u001b[0m\u001b[39;49m To update, run: \u001b[0m\u001b[32;49mpip install --upgrade pip\u001b[0m\n",
      "Note: you may need to restart the kernel to use updated packages.\n"
     ]
    }
   ],
   "source": [
    "pip install tiktoken"
   ]
  },
  {
   "cell_type": "code",
   "execution_count": 2,
   "metadata": {},
   "outputs": [],
   "source": [
    "import ast  # for converting embeddings saved as strings back to arrays\n",
    "import openai  # for calling the OpenAI API\n",
    "import pandas as pd  # for storing text and embeddings data\n",
    "import tiktoken  # for counting tokens\n",
    "from scipy import spatial  # for calculating vector similarities for search\n",
    "\n",
    "\n",
    "# models\n",
    "EMBEDDING_MODEL = \"text-embedding-ada-002\"\n",
    "GPT_MODEL = \"gpt-3.5-turbo\""
   ]
  },
  {
   "cell_type": "markdown",
   "metadata": {},
   "source": [
    "## Giving GPT knowledge about a topic by inserting it into an input message."
   ]
  },
  {
   "cell_type": "code",
   "execution_count": 3,
   "metadata": {},
   "outputs": [],
   "source": [
    "government_forms_search = \"\"\"\n",
    "2023 Government forms\n",
    "Examination Brochure: Information about Examinations\n",
    "SEC 2389Examination Brochure: Information about Examinations\n",
    "SEC 2389 ( 03-23)\n",
    "\n",
    "INFORMATION FOR ENTITIES SUBJECT TO  EXAMINATION OR INSPECTION BY  THE SECURITIES AND EXCHANGE  COMMISSION      The examination staff (staf f) of the Division  of Examinations ( EXAMS ) of the Securities and  Exchange Commission (Commission) has prepared this brochure to provide information  about examinations it conduct s, including  information about the examination process and  the methods the staff employ s for resolving issues identified d uring examinations.. This  information, provided to entities undergoing examination or inspection , should help entities  to understand better the  staff’s objectives in this area.1    I.. PURPOSE OF EXAMINATIONS   Commission representatives have statutory authority  to conduct , at any time or from time to  time, reasonable periodic, special , and other examinations of the records of specified  Commission -regulated entities  (entity  or entities ).. The s taff carries out these responsibilities in   11 regional offices and headquarters  in Washington, DC.. EXAMS ’ mission  is to protect  investors, ensure market integrity, and support responsible capital formation through risk-focused  strategies that: improve compliance , prevent fraud , monitor risk , and inform policy.. During exam inations, the staff will seek to determine whether the entity being examined is :  conducting its activities in accordance with the federal securities laws and the rules adopted  under these laws ( as well as , where applicable, the rules of self-regulatory organizations subject  to the Commission ’s oversight); adhering to the disclosures it has made to  its clients, customers ,  the general public, and /or the Commission ; and implementing supervisory systems and/or  compliance policies and procedures that are reasonably designed to ensure that the entity ’s  operations are in compliance with applicable legal requirements .. The staff  appreciates each entity ’s cooperation as it will facilitate the staff ’s ability to time ly  complete the examination .. Entities should work promptly to  provide the staff  with complete and  accurate information and ensure that knowledgeable employees are made available to  help the  staff better understand the entity and its operations.. II.. THE EXAMINATION PROCESS   The Commission ’s exam ination  program is risk -based .. An entity may be selected for  examination for any number of reasons including , but not limited to,  a statutory mandate that  requires the Commission to examine the entity ; the entity ’s risk profile; a tip, complaint, or  referral; or a review of a particular compliance risk area.. The reason an entity has been selected                                                    1  This statement represents the views of staff of EXAMS.. It is not a rule, regulation, or statement of the  Commission.. The Commission has neither approved nor disapproved its content.. This statement, like all staff  statements, has no legal force or effect: it does not alter or amend applicable law, and it creates no new or additi onal  obligations for any person.. SEC 2389 ( 03-23) -2- for examination is non-public information and typically will not be shared with the entity under  examination .. As part of the pre -examination planning process, the staff  strives to efficiently   allocate resources and minimize , if possible, any  overlap with the scope of any recent or ongoing  examinations or investigations by other regulators or Commission staff  in other Commission  offices or divisions.. If an entity has any concerns with respect to overlapping examinations or investigations , the entity should contact the Commission staff  involved.. Throughout the examination process, the staff  may consult and/or coordinate with other  Commission staff, including supervisory examination staff and staff in other Commission offices and divisions, regarding any issues identified and  the interpretation  and application of the  securities laws and rules adopted under these laws, and, as  applicable, self -regulatory  organization rules.. As a result, the staff may share information and documents received from the  entity with other Commission staff to the extent the staff  deems necessary or appropriate.. The  Commission may also share information and documents with other regulators or authorities.. Whether the Commission has shared information and documents received from an entity is a confidential matter..\n",
    "\n",
    "\n",
    "2023 Government forms\n",
    "Application for registration or exemption from registration as a national securities exchange\n",
    "Form 1\n",
    "\n",
    "APPLICATION FOR, AND AMENDMENTS TO APPLICATION FOR, REGISTRATION AS   A NATIONAL SECURITIES EXCHANGE OR EXEMPTION FROM REGISTRATION  PURSUANT TO SECTION 5 OF THE EXCHANGE  ACT  SEC 1935 (2-99) hours  per response.. .........  30.00  March 31, 2025   Estimated  average  burden  Expires:  3235-0017 OMB  Number:  OMB  APPROVAL  2  FORM  1 INSTRUCTIONS     A.. GENERAL  INSTRUCTIONS     1.. Form  1 is the application  for registration  as a national  securities  exchange  or an exchange  exempt  from  registration  pursuant to Section 5 of the Securities Exchange Act of 1934 (“Exchange Act”).. 2.. UPDATING  - A registered  exchange or exchange  exempt  from registration  pursuant  to Section  5 of the Exchange  Act  must file amendments  to Form  1 in accordance  with Exchange  Act Rule 6a-2.. 3.. CONTACT  EMPLOYEE - The individual  listed  on the Execution  Page (Page  1) of Form  1 as the contact  employee must be  authorized to receive all contact information, communications, and mailings, and is responsible for disseminating such  information  within  the applicant’s  organization.. 4.. FORMAT    Attach  an Execution  Page (Page  1) with original  manual  signatures..  Please  type all information..  Use only the current  version  of Form  1 or a reproduction.. 5.. If the information called for by any Exhibit is available in printed form, the printed material may be filed, provided it doe s  not exceed 8 1/2 X 11 inches in size.. 6.. If any Exhibit  required  is inapplicable,  a statement to that effect  shall be furnished  in lieu of such Exhibit.. 7.. An exchange  that is filing  Form  1 as an application  may not satisfy  the requirements  to provide  certain  information  by  means  of an Internet  web page.. All  materials  must be filed with the Commission  in paper.. 8.. WHERE TO FILE AND NUMBER OF COPIES  - Submit one original and two copies of Form 1 to: SEC, Division of Market  Regulation, Office of Market Supervision, 450 Fifth Street, N.W., Washington, DC  20549.. 9.. PAPERWORK REDUCTION ACT DISCLOSURE    Form 1 requires an exchange seeking to register as a national securities exchange or seeking an exemption from  registration  as a national  securities  exchange  pursuant  to Section  5 of the Exchange  Act to provide  the Securities  and  Exchange  Commission  (“SEC”  or “Commission”)  with certain  information  regarding  the operation  of the exchange.. Form 1 also requires national securities exchanges or exchanges exempt from registration based on limited volume  to update certain information on a periodic basis..  An agency  may not conduct  or sponsor,  and a person  is not required  to respond  to, a collection  of information  unless  it displays  a currently  valid  control  number  .. Sections  3(a)(1),  5, 6(a) and 23(a)  authorize  the Commission  to collect  information  on this Form  1 from exchanges.. See 15 U.S.C.. §§78c(a)(1),  78e, 78f(a)  and 78w(a)..  Any member  of the public  may direct  to the Commission  any comments  concerning  the accuracy  of the burden  estimate  on the facing  page  of Form  1 and any suggestions  for reducing this burden..  Form 1 is designed to enable the Commission to determine whether an exchange applying for registration is in  compliance with the provisions of Sections 6 and 19 of the Exchange Act.. Form 1 is also designed to enable the  Commission  to determine whether  a national  securities  exchange  or exchange  exempt  from registration  based  on  limited  volume  is operating  in compliance  with the Exchange  Act..  It is estimated that an exchange will spend approx imately 47 hours completing the initial application on Form 1  pursuant  to Rule 6a-1..\n",
    "\n",
    "2023 Government forms\n",
    "Regulation A Offering Statement\n",
    "Page 1UNITED STATES\n",
    "SECURITIES AND EXCHANGE COMMISSION\n",
    "Washington, D.C. 20549\n",
    "\n",
    "FORM 1-A REGULATION A OFFERING STATEMENT  UNDER THE SECURITIES ACT OF 1933 GENERAL INSTRUCTIONS I.. Eligibility Requirements for Use of Form 1-A.. Th is Form is to be used for securities off  erings made pursuant to Regulation A (17 CFR 230.251 et seq.).. Careful attention should be directed to the terms, conditions and requirements of Regulation A, especially Rule  251, because the exemption is not available to all issuers or for every type of securities transaction.. Further, the aggregate off  ering price and aggregate sales of securities in any 12-month period is strictly limited to $20 million  for Tier 1 off  erings and $75 million for Tier 2 off  erings, including no more than $6 million off  ered by all selling  securityholders that are affi   liates of the issuer for Tier 1 off  erings and $22.5 million by all selling securityholders  that are affi   liates of the issuer for Tier 2 off  erings.. Please refer to Rule 251 of Regulation A for more details.. II.. Preparation, Submission and Filing of the Off  ering Statement.. An off  ering statement must be prepared by all persons seeking exemption under the provisions of Reg- ulation A.. Parts I, II and III must be addressed by all issuers.. Part II, which relates to the content of the required off ering circular, provides alternative formats, of which the issuer must choose one.. General informa- tion  regarding the preparation, format, content, and submission or fi  ling of the off  ering statement is contained in  Rule 252.. Information regarding non-public submission of the off  ering statement is contained in Rule 252(d).. Requirements relating to the off  ering circular are contained in Rules 253 and 254.. Th  e off  ering statement must  be submitted or fi  led with the Securities and Exchange Commission in electronic format by means of the Com-  mission’s Electronic Data Gathering, Analysis and Retrieval System (EDGAR) in accordance with the EDGAR rules set forth in Regulation S-T (17 CFR Part 232) for such submission or fi  ling.. III.. Incorporation by Reference and Cross-Referencing.. An issuer may incorporate by reference to other documents previously submitted or fi  led on EDGAR.. Cross-referencing within the off  ering statement is also encouraged to avoid repetition of information.. For exam-  ple, you may respond to an item of this Form by providing a cross-reference to the location of the information in the fi  nancial statements, instead of repeating such information.. Incorporation by reference and cross-referencing  are subject to the following additional conditions: (a) Th  e use of incorporation by reference and cross-referencing in Part II of this Form: (1) Is limited to the following items: (A) Items 2-14 of Part II and Part F/S if following the Off  ering Circular format; (B) Items 3-11 of Form S-1 if following the Part I of Form S-1 format; or(C) Items 3-28, and 30 of Form S-11 if following the Part I of Form S-11 format;OMB APPROVAL OMB Number:                     3235-0286 Expires:                 September 30, 2024Estimated average burdenhours per response ..\n",
    "\n",
    "                                                      or              [  ] SPECIAL FINANCIAL REPORT PURSUANT TO REGULATION A For the fiscal semiannual period ended ___________________________________________________   ____________________________________________________________________________   (Exact name of issuer as specified in its charter) _____________________________________________  _____________________   State or other jurisdiction of incorporation or organization  (I.R.S.. Employer  Identification No.). __________________________________________________________________________________   (Full mailing address of principal executive offices) ____________________________________________________________________________________   (Issuer’s telephone number, including area code) GENERAL  INSTRUCTIONS A.. Rules as to Use of Form 1-SA.. (1) This Form shall be used for semiannual reports pursuant to Rule 257(b)(3) of Regulation A (§§ 230.251- 230.263).. (2) Semiannual reports on this Form shall be filed within 90 calendar days after the end of the semiannual pe- riod covered by the report.. (3) This Form also shall be used for special financial reports filed pursuant to Rule 257(b)(2)(i)(B) of Regulation A.. Such special financial reports shall be filed and signed in the manner set forth in this Form, but otherwiseneed only provide the cover page and financial statements required by Rule 257(b)(2)(i)(B).. Special financialreports filed using this Form shall be filed within 90 calendar days after the qualification date of the offeringstatement.. B.. Preparation of Report.. (1) Regulation A contains certain general requirements that are applicable to reports on any form, including amendments to reports.. These general requirements should be carefully read and observed in the preparationand filing of reports on this Form.. (2) This Form is not to be used as a blank form to be filled in, but only as a guide in the preparation of the re- port.OMB Number:          3235-0721  Expir    es:       October 31, 2025   Estimated average burden hours per response  .. .. .. .. 188.04OMB APPROVAL Persons who are to respond to the collection of information contained in this form are not  required to respond unless the form displays a currently valid OMB control number.SEC2914 (1-21) 1 of 5(3) In addition to the information expressly required to be included in this Form, there shall be added such further material information, if any , as may be necessary to make the required statements, in light of the circum - stances under which they are made, not misleading.. C. Signature and Filing of Report.. (1) The report must be filed with the Commission in electronic format by means of the Commission’s Electronic Data Gathering, Analysis and Retrieval System (“EDGAR”) in accordance with the EDGAR rules set forth inRegulation S-T (17 CFR Part 232).. (2) The report must be signed by the issuer, its principal executive officer, principal financial officer and princi- pal accounting officer.. If a signature is by a person on behalf of any other person, evidence of authority to signmust be filed with the report, except where an executive officer signs on behalf of the issuer .. (3) The report must be signed using a typed signature.. Each signatory to the filing must also manually signa signature page or other document authenticating, acknowledging or otherwise adopting his or her signaturethat appears in the filing.. Such document must be executed before or at the time the filing is made and must beretained by the issuer for a period of five years.. Upon request, the issuer must furnish to the Commission or itsstaff a copy of any or all documents retained pursuant to this paragraph.. D. Incorporation by Reference and Cross-Referencing.. (1) An issuer may incorporate by reference to other documents previously submitted or filed on EDGAR.. Cross-referencing within the report is also encouraged to avoid repetition of information..\n",
    "\n",
    "\n",
    "\n",
    "\"\"\""
   ]
  },
  {
   "cell_type": "code",
   "execution_count": null,
   "metadata": {},
   "outputs": [
    {
     "name": "stdout",
     "output_type": "stream",
     "text": [
      "The purpose of the SEC's examinations is to determine whether the entity being examined is conducting its activities in accordance with the federal securities laws and rules, adhering to the disclosures it has made, and implementing supervisory systems and compliance policies to ensure compliance with applicable legal requirements. The examinations aim to protect investors, ensure market integrity, and support responsible capital formation.\n"
     ]
    }
   ],
   "source": [
    "api_key=\"your api key\"\n",
    "query = f\"\"\"Use the below articles of the SEC Goverment forms to answer the subsequent question. If the answer cannot be found, write \"I don't know.\"\n",
    "\n",
    "Article:\n",
    "\\\"\\\"\\\"\n",
    "{government_forms_search}\n",
    "\\\"\\\"\\\"\n",
    "\n",
    "Question: What is the purpose of the SEC's examinations?\"\"\"\n",
    "\n",
    "response = openai.ChatCompletion.create(\n",
    "    messages=[\n",
    "        {'role': 'system', 'content': 'You answer questions about the SEC Government Forms.'},\n",
    "        {'role': 'user', 'content': query},\n",
    "    ],\n",
    "    model=GPT_MODEL,\n",
    "    temperature=0,\n",
    "    api_key = api_key\n",
    ")\n",
    "\n",
    "print(response['choices'][0]['message']['content'])"
   ]
  },
  {
   "cell_type": "markdown",
   "metadata": {},
   "source": [
    "## Prepare Search Data"
   ]
  },
  {
   "cell_type": "markdown",
   "metadata": {},
   "source": [
    "### Preparing a dataset of Government Forms for search used in the Embeddings notebook"
   ]
  },
  {
   "cell_type": "markdown",
   "metadata": {},
   "source": [
    "#### Importing Libraries"
   ]
  },
  {
   "cell_type": "code",
   "execution_count": 5,
   "metadata": {},
   "outputs": [],
   "source": [
    "import pandas as pd"
   ]
  },
  {
   "cell_type": "code",
   "execution_count": 6,
   "metadata": {},
   "outputs": [
    {
     "name": "stdout",
     "output_type": "stream",
     "text": [
      "Collecting mwparserfromhell\n",
      "  Using cached mwparserfromhell-0.6.5-cp311-cp311-macosx_10_9_universal2.whl (123 kB)\n",
      "Installing collected packages: mwparserfromhell\n",
      "Successfully installed mwparserfromhell-0.6.5\n",
      "\n",
      "\u001b[1m[\u001b[0m\u001b[34;49mnotice\u001b[0m\u001b[1;39;49m]\u001b[0m\u001b[39;49m A new release of pip is available: \u001b[0m\u001b[31;49m23.1.2\u001b[0m\u001b[39;49m -> \u001b[0m\u001b[32;49m23.3\u001b[0m\n",
      "\u001b[1m[\u001b[0m\u001b[34;49mnotice\u001b[0m\u001b[1;39;49m]\u001b[0m\u001b[39;49m To update, run: \u001b[0m\u001b[32;49mpip install --upgrade pip\u001b[0m\n",
      "Note: you may need to restart the kernel to use updated packages.\n"
     ]
    }
   ],
   "source": [
    "pip install mwparserfromhell"
   ]
  },
  {
   "cell_type": "code",
   "execution_count": 7,
   "metadata": {},
   "outputs": [
    {
     "name": "stdout",
     "output_type": "stream",
     "text": [
      "Collecting mwclient\n",
      "  Using cached mwclient-0.10.1-py2.py3-none-any.whl (27 kB)\n",
      "Collecting requests-oauthlib (from mwclient)\n",
      "  Using cached requests_oauthlib-1.3.1-py2.py3-none-any.whl (23 kB)\n",
      "Requirement already satisfied: six in /Users/prathamesh/Desktop/Github/Assignment-2/.venv/lib/python3.11/site-packages (from mwclient) (1.16.0)\n",
      "Collecting oauthlib>=3.0.0 (from requests-oauthlib->mwclient)\n",
      "  Using cached oauthlib-3.2.2-py3-none-any.whl (151 kB)\n",
      "Requirement already satisfied: requests>=2.0.0 in /Users/prathamesh/Desktop/Github/Assignment-2/.venv/lib/python3.11/site-packages (from requests-oauthlib->mwclient) (2.31.0)\n",
      "Requirement already satisfied: charset-normalizer<4,>=2 in /Users/prathamesh/Desktop/Github/Assignment-2/.venv/lib/python3.11/site-packages (from requests>=2.0.0->requests-oauthlib->mwclient) (3.3.0)\n",
      "Requirement already satisfied: idna<4,>=2.5 in /Users/prathamesh/Desktop/Github/Assignment-2/.venv/lib/python3.11/site-packages (from requests>=2.0.0->requests-oauthlib->mwclient) (3.4)\n",
      "Requirement already satisfied: urllib3<3,>=1.21.1 in /Users/prathamesh/Desktop/Github/Assignment-2/.venv/lib/python3.11/site-packages (from requests>=2.0.0->requests-oauthlib->mwclient) (2.0.6)\n",
      "Requirement already satisfied: certifi>=2017.4.17 in /Users/prathamesh/Desktop/Github/Assignment-2/.venv/lib/python3.11/site-packages (from requests>=2.0.0->requests-oauthlib->mwclient) (2023.7.22)\n",
      "Installing collected packages: oauthlib, requests-oauthlib, mwclient\n",
      "Successfully installed mwclient-0.10.1 oauthlib-3.2.2 requests-oauthlib-1.3.1\n",
      "\n",
      "\u001b[1m[\u001b[0m\u001b[34;49mnotice\u001b[0m\u001b[1;39;49m]\u001b[0m\u001b[39;49m A new release of pip is available: \u001b[0m\u001b[31;49m23.1.2\u001b[0m\u001b[39;49m -> \u001b[0m\u001b[32;49m23.3\u001b[0m\n",
      "\u001b[1m[\u001b[0m\u001b[34;49mnotice\u001b[0m\u001b[1;39;49m]\u001b[0m\u001b[39;49m To update, run: \u001b[0m\u001b[32;49mpip install --upgrade pip\u001b[0m\n",
      "Note: you may need to restart the kernel to use updated packages.\n"
     ]
    }
   ],
   "source": [
    "pip install mwclient"
   ]
  },
  {
   "cell_type": "code",
   "execution_count": 8,
   "metadata": {},
   "outputs": [],
   "source": [
    "import mwclient  # for downloading example Wikipedia articles\n",
    "import mwparserfromhell  # for splitting Wikipedia articles into sections\n",
    "import openai  # for generating embeddings\n",
    "import pandas as pd  # for DataFrames to store article sections and embeddings\n",
    "import re  # for cutting <ref> links out of Wikipedia articles\n",
    "import tiktoken  # for counting tokens"
   ]
  },
  {
   "cell_type": "markdown",
   "metadata": {},
   "source": [
    "### Chunk Documents"
   ]
  },
  {
   "cell_type": "code",
   "execution_count": 9,
   "metadata": {},
   "outputs": [
    {
     "name": "stdout",
     "output_type": "stream",
     "text": [
      "Filtered out 0 rows, leaving 20 rows.\n"
     ]
    }
   ],
   "source": [
    "import csv\n",
    "\n",
    "# Function to read the CSV file and return the specified column\n",
    "def read_csv_and_extract_column(csv_filename, column_name):\n",
    "    extracted_column = []\n",
    "    with open(csv_filename, 'r', newline='') as csv_file:\n",
    "        reader = csv.DictReader(csv_file)\n",
    "        for row in reader:\n",
    "            extracted_column.append(row[column_name])\n",
    "    return extracted_column\n",
    "\n",
    "# Replace 'your_csv_file.csv' with the path to your CSV file\n",
    "csv_file_path = '/Users/prathamesh/Desktop/Github/Assignment-2/part_1/openai_notebooks/embeddings/preprocessed_data.csv'\n",
    "\n",
    "# Replace 'your_column_name' with the name of the column you want to filter\n",
    "column_name = 'context'\n",
    "\n",
    "# Read the CSV file and extract the specified column\n",
    "csv_column = read_csv_and_extract_column(csv_file_path, column_name)\n",
    "\n",
    "# Define the function keep_section as provided in your code\n",
    "def keep_section(section):\n",
    "    if len(section) < 16:\n",
    "        return False\n",
    "    return True\n",
    "\n",
    "# Filter the data based on the keep_section function\n",
    "filtered_data = [data for data in csv_column if keep_section(data)]\n",
    "\n",
    "# Print the results\n",
    "print(f\"Filtered out {len(csv_column) - len(filtered_data)} rows, leaving {len(filtered_data)} rows.\")\n",
    "\n",
    "# Optionally, you can write the filtered data back to a new CSV file\n",
    "filtered_csv_file_path = 'filtered_data.csv'\n",
    "with open(filtered_csv_file_path, 'w', newline='') as filtered_csv_file:\n",
    "    writer = csv.writer(filtered_csv_file)\n",
    "    writer.writerows(filtered_data)\n"
   ]
  },
  {
   "cell_type": "code",
   "execution_count": 10,
   "metadata": {},
   "outputs": [
    {
     "name": "stdout",
     "output_type": "stream",
     "text": [
      "2023 government forms examination brochure information examinations sec 2389e...\n",
      "\n",
      "2023 government forms application registration exemption registration nationa...\n",
      "\n",
      "2023 government forms regulation offering statement page 1united states secur...\n",
      "\n",
      "2023 government forms notification regulation e may send completed printout f...\n",
      "\n",
      "2023 government forms annual reports special financial reports united states ...\n",
      "\n"
     ]
    }
   ],
   "source": [
    "import csv\n",
    "\n",
    "# Function to read the CSV file and return the specified column\n",
    "def read_csv_and_extract_column(csv_filename, column_name):\n",
    "    extracted_column = []\n",
    "    with open(csv_filename, 'r', newline='') as csv_file:\n",
    "        reader = csv.DictReader(csv_file)\n",
    "        for row in reader:\n",
    "            extracted_column.append(row[column_name])\n",
    "    return extracted_column\n",
    "\n",
    "# Replace 'your_csv_file.csv' with the path to your CSV file\n",
    "csv_file_path = '/Users/prathamesh/Desktop/Github/Assignment-2/part_1/openai_notebooks/embeddings/preprocessed_data.csv'\n",
    "\n",
    "# Replace 'your_column_name' with the name of the column you want to display\n",
    "column_name = 'context'\n",
    "\n",
    "# Read the CSV file and extract the specified column\n",
    "csv_column = read_csv_and_extract_column(csv_file_path, column_name)\n",
    "\n",
    "# Display the first 5 sections of the specified column\n",
    "for section_text in csv_column[:5]:\n",
    "    print(section_text[:77] + \"...\")\n",
    "    print()"
   ]
  },
  {
   "cell_type": "code",
   "execution_count": 11,
   "metadata": {},
   "outputs": [],
   "source": [
    "import csv\n",
    "import tiktoken  # Make sure to import the tiktoken library\n",
    "\n",
    "GPT_MODEL = \"gpt-3.5-turbo\"\n",
    "\n",
    "def num_tokens(text: str, model: str = GPT_MODEL) -> int:\n",
    "    \"\"\"Return the number of tokens in a string.\"\"\"\n",
    "    encoding = tiktoken.encoding_for_model(model)\n",
    "    return len(encoding.encode(text))\n",
    "\n",
    "def split_and_truncate_text(text, max_tokens, model=GPT_MODEL):\n",
    "    encoding = tiktoken.encoding_for_model(model)\n",
    "    encoded_text = encoding.encode(text)\n",
    "    \n",
    "    if len(encoded_text) <= max_tokens:\n",
    "        return [text]  # No need to split or truncate\n",
    "    \n",
    "    # Split the text into smaller chunks\n",
    "    chunks = []\n",
    "    start = 0\n",
    "    while start < len(encoded_text):\n",
    "        end = start + max_tokens\n",
    "        chunks.append(encoded_text[start:end])\n",
    "        start = end\n",
    "    \n",
    "    # Convert the chunks back to text\n",
    "    chunk_texts = [encoding.decode(chunk) for chunk in chunks]\n",
    "    \n",
    "    return chunk_texts\n",
    "\n",
    "def read_csv_and_extract_column(csv_filename, column_name):\n",
    "    extracted_column = []\n",
    "    with open(csv_filename, 'r', newline='') as csv_file:\n",
    "        reader = csv.DictReader(csv_file)\n",
    "        for row in reader:\n",
    "            extracted_column.append(row[column_name])\n",
    "    return extracted_column\n",
    "\n",
    "# Replace 'your_csv_file.csv' with the path to your CSV file\n",
    "csv_file_path = '/Users/prathamesh/Desktop/Github/Assignment-2/part_1/openai_notebooks/embeddings/preprocessed_data.csv'\n",
    "\n",
    "# Replace 'your_column_name' with the name of the column you want to process\n",
    "column_name = 'context'\n",
    "\n",
    "# Read the CSV file and extract the specified column\n",
    "csv_column = read_csv_and_extract_column(csv_file_path, column_name)\n",
    "\n",
    "# Set your desired maximum tokens\n",
    "max_tokens = 1000\n",
    "processed_data = []\n",
    "\n",
    "for text in csv_column:\n",
    "    split_sections = split_and_truncate_text(text, max_tokens)\n",
    "    processed_data.extend(split_sections)\n",
    "\n",
    "# Optionally, you can write the processed data back to a new CSV file\n",
    "output_csv_file_path = 'processed_data.csv'\n",
    "\n",
    "with open(output_csv_file_path, 'w', newline='') as output_csv_file:\n",
    "    writer = csv.writer(output_csv_file)\n",
    "    for row in processed_data:\n",
    "        writer.writerow([row])\n"
   ]
  },
  {
   "cell_type": "markdown",
   "metadata": {},
   "source": [
    "### Displaying the preprocessed text"
   ]
  },
  {
   "cell_type": "code",
   "execution_count": 13,
   "metadata": {},
   "outputs": [],
   "source": [
    "df1 = pd.read_csv(\"/Users/prathamesh/Desktop/Github/Assignment-2/part_1/openai_notebooks/embeddings/data_1.csv\")"
   ]
  },
  {
   "cell_type": "code",
   "execution_count": 14,
   "metadata": {},
   "outputs": [
    {
     "data": {
      "text/html": [
       "<div>\n",
       "<style scoped>\n",
       "    .dataframe tbody tr th:only-of-type {\n",
       "        vertical-align: middle;\n",
       "    }\n",
       "\n",
       "    .dataframe tbody tr th {\n",
       "        vertical-align: top;\n",
       "    }\n",
       "\n",
       "    .dataframe thead th {\n",
       "        text-align: right;\n",
       "    }\n",
       "</style>\n",
       "<table border=\"1\" class=\"dataframe\">\n",
       "  <thead>\n",
       "    <tr style=\"text-align: right;\">\n",
       "      <th></th>\n",
       "      <th>Text</th>\n",
       "    </tr>\n",
       "  </thead>\n",
       "  <tbody>\n",
       "    <tr>\n",
       "      <th>0</th>\n",
       "      <td>2023 government forms examination brochure inf...</td>\n",
       "    </tr>\n",
       "    <tr>\n",
       "      <th>1</th>\n",
       "      <td>2023 government forms application registration...</td>\n",
       "    </tr>\n",
       "    <tr>\n",
       "      <th>2</th>\n",
       "      <td>2023 government forms regulation offering stat...</td>\n",
       "    </tr>\n",
       "    <tr>\n",
       "      <th>3</th>\n",
       "      <td>2023 government forms notification regulation ...</td>\n",
       "    </tr>\n",
       "    <tr>\n",
       "      <th>4</th>\n",
       "      <td>2023 government forms annual reports special f...</td>\n",
       "    </tr>\n",
       "    <tr>\n",
       "      <th>5</th>\n",
       "      <td>2023 government forms form amendments notice r...</td>\n",
       "    </tr>\n",
       "    <tr>\n",
       "      <th>6</th>\n",
       "      <td>2023 government forms semiannual report specia...</td>\n",
       "    </tr>\n",
       "    <tr>\n",
       "      <th>7</th>\n",
       "      <td>2023 government forms current report pursuant ...</td>\n",
       "    </tr>\n",
       "    <tr>\n",
       "      <th>8</th>\n",
       "      <td>2023 government forms exit report regulation s...</td>\n",
       "    </tr>\n",
       "    <tr>\n",
       "      <th>9</th>\n",
       "      <td>2023 government forms general form registratio...</td>\n",
       "    </tr>\n",
       "    <tr>\n",
       "      <th>10</th>\n",
       "      <td>2023 government forms assetbacked issuer distr...</td>\n",
       "    </tr>\n",
       "    <tr>\n",
       "      <th>11</th>\n",
       "      <td>2023 government forms annual report pursuant s...</td>\n",
       "    </tr>\n",
       "    <tr>\n",
       "      <th>12</th>\n",
       "      <td>2023 government forms irrevocable appointment ...</td>\n",
       "    </tr>\n",
       "    <tr>\n",
       "      <th>13</th>\n",
       "      <td>2023 government forms general form quarterly r...</td>\n",
       "    </tr>\n",
       "    <tr>\n",
       "      <th>14</th>\n",
       "      <td>2023 government forms general form quarterly r...</td>\n",
       "    </tr>\n",
       "    <tr>\n",
       "      <th>15</th>\n",
       "      <td>2023 government forms notification late filing...</td>\n",
       "    </tr>\n",
       "    <tr>\n",
       "      <th>16</th>\n",
       "      <td>2023 government forms information required ins...</td>\n",
       "    </tr>\n",
       "    <tr>\n",
       "      <th>17</th>\n",
       "      <td>2023 government forms information required lar...</td>\n",
       "    </tr>\n",
       "    <tr>\n",
       "      <th>18</th>\n",
       "      <td>2023 government forms notice proposed sale sec...</td>\n",
       "    </tr>\n",
       "    <tr>\n",
       "      <th>19</th>\n",
       "      <td>2023 government forms certification notice ter...</td>\n",
       "    </tr>\n",
       "  </tbody>\n",
       "</table>\n",
       "</div>"
      ],
      "text/plain": [
       "                                                 Text\n",
       "0   2023 government forms examination brochure inf...\n",
       "1   2023 government forms application registration...\n",
       "2   2023 government forms regulation offering stat...\n",
       "3   2023 government forms notification regulation ...\n",
       "4   2023 government forms annual reports special f...\n",
       "5   2023 government forms form amendments notice r...\n",
       "6   2023 government forms semiannual report specia...\n",
       "7   2023 government forms current report pursuant ...\n",
       "8   2023 government forms exit report regulation s...\n",
       "9   2023 government forms general form registratio...\n",
       "10  2023 government forms assetbacked issuer distr...\n",
       "11  2023 government forms annual report pursuant s...\n",
       "12  2023 government forms irrevocable appointment ...\n",
       "13  2023 government forms general form quarterly r...\n",
       "14  2023 government forms general form quarterly r...\n",
       "15  2023 government forms notification late filing...\n",
       "16  2023 government forms information required ins...\n",
       "17  2023 government forms information required lar...\n",
       "18  2023 government forms notice proposed sale sec...\n",
       "19  2023 government forms certification notice ter..."
      ]
     },
     "execution_count": 14,
     "metadata": {},
     "output_type": "execute_result"
    }
   ],
   "source": [
    "df1"
   ]
  },
  {
   "cell_type": "code",
   "execution_count": 15,
   "metadata": {},
   "outputs": [
    {
     "name": "stdout",
     "output_type": "stream",
     "text": [
      "20 rows split into 20 strings.\n"
     ]
    }
   ],
   "source": [
    "import pandas as pd\n",
    "\n",
    "# Read the CSV file into a DataFrame\n",
    "df1 = pd.read_csv(\"/Users/prathamesh/Desktop/Github/Assignment-2/part_1/openai_notebooks/embeddings/data_1.csv\")\n",
    "\n",
    "MAX_TOKENS = 700\n",
    "government_strings = []\n",
    "\n",
    "# Assuming your CSV file has a column named \"text\" that contains the text data\n",
    "for text in df1['Text']:\n",
    "    # Split the text into strings with a maximum of MAX_TOKENS tokens\n",
    "    strings = split_and_truncate_text(text, max_tokens=MAX_TOKENS)\n",
    "    government_strings.extend(strings)\n",
    "    \n",
    "\n",
    "print(f\"{len(df1)} rows split into {len(government_strings)} strings.\")"
   ]
  },
  {
   "cell_type": "code",
   "execution_count": 16,
   "metadata": {},
   "outputs": [
    {
     "name": "stdout",
     "output_type": "stream",
     "text": [
      "2023 government forms application registration exemption registration national securities exchange form 1 application amendments application registration national securities exchange exemption registration pursuant section 5 exchange act sec 1935 299 hours per response 3000 march 31 2025 estimated average burden expires 32350017 omb number omb approval 2 form 1 instructions general instructions 1 form 1 application registration national securities exchange exchange exempt registration pursuant section 5 securities exchange act 1934 exchange act 2 updating registered exchange exchange exempt registration pursuant section 5 exchange act must file amendments form 1 accordance exchange act rule 6a2 3 contact employee individual listed execution page page 1 form 1 contact employee must authorized receive contact information communications mailings responsible disseminating information within applicant organization 4 format attach execution page page 1 original manual signatures please type information use current version form 1 reproduction 5 information called exhibit available printed form printed material may filed provided doe exceed 8 12 x 11 inches size 6 exhibit required inapplicable statement effect shall furnished lieu exhibit 7 exchange filing form 1 application may satisfy requirements provide certain information means internet web page materials must filed commission paper 8 file number copies submit one original two copies form 1 sec division market regulation office market supervision 450 fifth street nw washington dc 20549 9 paperwork reduction act disclosure form 1 requires exchange seeking register national securities exchange seeking exemption registration national securities exchange pursuant section 5 exchange act provide securities exchange commission sec commission certain information regarding operation exchange form 1 also requires national securities exchanges exchanges exempt registration based limited volume update certain information periodic basis agency may conduct sponsor person required respond collection information unless displays currently valid control number sections 3 1 5 6 23 authorize commission collect information form 1 exchanges see 15 usc 78c 1 78e 78f 78w member public may direct commission comments concerning accuracy burden estimate facing page form 1 suggestions reducing burden form 1 designed enable commission determine whether exchange applying registration compliance provisions sections 6 19 exchange act form 1 also designed enable commission determine whether national securities exchange exchange exempt registration based limited volume operating compliance exchange act estimated exchange spend approx imately 47 hours completing initial application form 1 pursuant rule 6a1\n"
     ]
    }
   ],
   "source": [
    "print(government_strings[1])"
   ]
  },
  {
   "cell_type": "markdown",
   "metadata": {},
   "source": [
    "## Embed document chunks"
   ]
  },
  {
   "cell_type": "code",
   "execution_count": 17,
   "metadata": {},
   "outputs": [
    {
     "name": "stdout",
     "output_type": "stream",
     "text": [
      "Batch 0 to 19\n"
     ]
    }
   ],
   "source": [
    "import openai\n",
    "import pandas as pd\n",
    "\n",
    "# Set your API key here\n",
    "API_KEY = \"Your Api Key\"\n",
    "\n",
    "# Define your model and batch size\n",
    "EMBEDDING_MODEL = \"text-embedding-ada-002\"  # OpenAI's best embeddings as of Apr 2023\n",
    "BATCH_SIZE = 1000  # you can submit up to 2048 embedding inputs per request\n",
    "\n",
    "# Initialize OpenAI with your API key\n",
    "openai.api_key = API_KEY\n",
    "\n",
    "embeddings = []\n",
    "for batch_start in range(0, len(government_strings), BATCH_SIZE):\n",
    "    batch_end = min(batch_start + BATCH_SIZE, len(government_strings))\n",
    "    batch = government_strings[batch_start:batch_end]\n",
    "    print(f\"Batch {batch_start} to {batch_end-1}\")\n",
    "    response = openai.Embedding.create(model=EMBEDDING_MODEL, input=batch)\n",
    "    for i, be in enumerate(response[\"data\"]):\n",
    "        assert i == be[\"index\"]  # double check embeddings are in the same order as input\n",
    "    batch_embeddings = [e[\"embedding\"] for e in response[\"data\"]]\n",
    "    embeddings.extend(batch_embeddings)\n",
    "\n",
    "df1 = pd.DataFrame({\"text\": government_strings, \"embedding\": embeddings})"
   ]
  },
  {
   "cell_type": "markdown",
   "metadata": {},
   "source": [
    "### Store document chunks and embeddings"
   ]
  },
  {
   "cell_type": "code",
   "execution_count": 18,
   "metadata": {},
   "outputs": [],
   "source": [
    "df1.to_csv(\"new_data.csv\", index=False)"
   ]
  },
  {
   "cell_type": "code",
   "execution_count": 19,
   "metadata": {},
   "outputs": [],
   "source": [
    "import ast  # for converting embeddings saved as strings back to arrays\n",
    "import openai  # for calling the OpenAI API\n",
    "import pandas as pd  # for storing text and embeddings data\n",
    "import tiktoken  # for counting tokens\n",
    "from scipy import spatial  # for calculating vector similarities for search\n",
    "\n",
    "\n",
    "# models\n",
    "EMBEDDING_MODEL = \"text-embedding-ada-002\"\n",
    "GPT_MODEL = \"gpt-3.5-turbo\""
   ]
  },
  {
   "cell_type": "markdown",
   "metadata": {},
   "source": [
    "## Prepare Search Data "
   ]
  },
  {
   "cell_type": "code",
   "execution_count": 20,
   "metadata": {},
   "outputs": [],
   "source": [
    "embeddings_path = \"/Users/prathamesh/Desktop/Github/Assignment-2/part_1/openai_notebooks/embeddings/new_data.csv\"\n",
    "\n",
    "df2 = pd.read_csv(embeddings_path)"
   ]
  },
  {
   "cell_type": "code",
   "execution_count": 21,
   "metadata": {},
   "outputs": [],
   "source": [
    "df2['embedding'] = df2['embedding'].apply(ast.literal_eval)"
   ]
  },
  {
   "cell_type": "code",
   "execution_count": 22,
   "metadata": {},
   "outputs": [
    {
     "data": {
      "text/html": [
       "<div>\n",
       "<style scoped>\n",
       "    .dataframe tbody tr th:only-of-type {\n",
       "        vertical-align: middle;\n",
       "    }\n",
       "\n",
       "    .dataframe tbody tr th {\n",
       "        vertical-align: top;\n",
       "    }\n",
       "\n",
       "    .dataframe thead th {\n",
       "        text-align: right;\n",
       "    }\n",
       "</style>\n",
       "<table border=\"1\" class=\"dataframe\">\n",
       "  <thead>\n",
       "    <tr style=\"text-align: right;\">\n",
       "      <th></th>\n",
       "      <th>text</th>\n",
       "      <th>embedding</th>\n",
       "    </tr>\n",
       "  </thead>\n",
       "  <tbody>\n",
       "    <tr>\n",
       "      <th>0</th>\n",
       "      <td>2023 government forms examination brochure inf...</td>\n",
       "      <td>[-0.010471713729202747, -0.0001877099857665598...</td>\n",
       "    </tr>\n",
       "    <tr>\n",
       "      <th>1</th>\n",
       "      <td>2023 government forms application registration...</td>\n",
       "      <td>[-0.019031904637813568, -0.0005620317533612251...</td>\n",
       "    </tr>\n",
       "    <tr>\n",
       "      <th>2</th>\n",
       "      <td>2023 government forms regulation offering stat...</td>\n",
       "      <td>[-0.02028811164200306, -0.011089688166975975, ...</td>\n",
       "    </tr>\n",
       "    <tr>\n",
       "      <th>3</th>\n",
       "      <td>2023 government forms notification regulation ...</td>\n",
       "      <td>[-0.013064158149063587, -0.009831175208091736,...</td>\n",
       "    </tr>\n",
       "    <tr>\n",
       "      <th>4</th>\n",
       "      <td>2023 government forms annual reports special f...</td>\n",
       "      <td>[-0.020037660375237465, -0.012947814539074898,...</td>\n",
       "    </tr>\n",
       "    <tr>\n",
       "      <th>5</th>\n",
       "      <td>2023 government forms form amendments notice r...</td>\n",
       "      <td>[-0.020353544503450394, -0.010243287310004234,...</td>\n",
       "    </tr>\n",
       "    <tr>\n",
       "      <th>6</th>\n",
       "      <td>2023 government forms semiannual report specia...</td>\n",
       "      <td>[-0.016406027600169182, -0.009464507922530174,...</td>\n",
       "    </tr>\n",
       "    <tr>\n",
       "      <th>7</th>\n",
       "      <td>2023 government forms current report pursuant ...</td>\n",
       "      <td>[-0.01728230156004429, -0.02042453922331333, -...</td>\n",
       "    </tr>\n",
       "    <tr>\n",
       "      <th>8</th>\n",
       "      <td>2023 government forms exit report regulation s...</td>\n",
       "      <td>[-0.015645071864128113, -0.010695029981434345,...</td>\n",
       "    </tr>\n",
       "    <tr>\n",
       "      <th>9</th>\n",
       "      <td>2023 government forms general form registratio...</td>\n",
       "      <td>[-0.02019253931939602, -0.017759384587407112, ...</td>\n",
       "    </tr>\n",
       "    <tr>\n",
       "      <th>10</th>\n",
       "      <td>2023 government forms assetbacked issuer distr...</td>\n",
       "      <td>[-0.042294494807720184, -0.010479814372956753,...</td>\n",
       "    </tr>\n",
       "    <tr>\n",
       "      <th>11</th>\n",
       "      <td>2023 government forms annual report pursuant s...</td>\n",
       "      <td>[-0.021266061812639236, -0.01980443112552166, ...</td>\n",
       "    </tr>\n",
       "    <tr>\n",
       "      <th>12</th>\n",
       "      <td>2023 government forms irrevocable appointment ...</td>\n",
       "      <td>[-0.027717620134353638, -0.01602592132985592, ...</td>\n",
       "    </tr>\n",
       "    <tr>\n",
       "      <th>13</th>\n",
       "      <td>2023 government forms general form quarterly r...</td>\n",
       "      <td>[-0.02334144152700901, -0.0050522456876933575,...</td>\n",
       "    </tr>\n",
       "    <tr>\n",
       "      <th>14</th>\n",
       "      <td>2023 government forms general form quarterly r...</td>\n",
       "      <td>[-0.0315837599337101, -0.014602532610297203, 0...</td>\n",
       "    </tr>\n",
       "    <tr>\n",
       "      <th>15</th>\n",
       "      <td>2023 government forms notification late filing...</td>\n",
       "      <td>[-0.03804687783122063, -0.009411243721842766, ...</td>\n",
       "    </tr>\n",
       "    <tr>\n",
       "      <th>16</th>\n",
       "      <td>2023 government forms information required ins...</td>\n",
       "      <td>[-0.015403106808662415, -0.027021149173378944,...</td>\n",
       "    </tr>\n",
       "    <tr>\n",
       "      <th>17</th>\n",
       "      <td>2023 government forms information required lar...</td>\n",
       "      <td>[-0.024070419371128082, -0.01974225789308548, ...</td>\n",
       "    </tr>\n",
       "    <tr>\n",
       "      <th>18</th>\n",
       "      <td>2023 government forms notice proposed sale sec...</td>\n",
       "      <td>[-0.04261258989572525, -0.011738312430679798, ...</td>\n",
       "    </tr>\n",
       "    <tr>\n",
       "      <th>19</th>\n",
       "      <td>2023 government forms certification notice ter...</td>\n",
       "      <td>[-0.02249719575047493, -0.011870142072439194, ...</td>\n",
       "    </tr>\n",
       "  </tbody>\n",
       "</table>\n",
       "</div>"
      ],
      "text/plain": [
       "                                                 text  \\\n",
       "0   2023 government forms examination brochure inf...   \n",
       "1   2023 government forms application registration...   \n",
       "2   2023 government forms regulation offering stat...   \n",
       "3   2023 government forms notification regulation ...   \n",
       "4   2023 government forms annual reports special f...   \n",
       "5   2023 government forms form amendments notice r...   \n",
       "6   2023 government forms semiannual report specia...   \n",
       "7   2023 government forms current report pursuant ...   \n",
       "8   2023 government forms exit report regulation s...   \n",
       "9   2023 government forms general form registratio...   \n",
       "10  2023 government forms assetbacked issuer distr...   \n",
       "11  2023 government forms annual report pursuant s...   \n",
       "12  2023 government forms irrevocable appointment ...   \n",
       "13  2023 government forms general form quarterly r...   \n",
       "14  2023 government forms general form quarterly r...   \n",
       "15  2023 government forms notification late filing...   \n",
       "16  2023 government forms information required ins...   \n",
       "17  2023 government forms information required lar...   \n",
       "18  2023 government forms notice proposed sale sec...   \n",
       "19  2023 government forms certification notice ter...   \n",
       "\n",
       "                                            embedding  \n",
       "0   [-0.010471713729202747, -0.0001877099857665598...  \n",
       "1   [-0.019031904637813568, -0.0005620317533612251...  \n",
       "2   [-0.02028811164200306, -0.011089688166975975, ...  \n",
       "3   [-0.013064158149063587, -0.009831175208091736,...  \n",
       "4   [-0.020037660375237465, -0.012947814539074898,...  \n",
       "5   [-0.020353544503450394, -0.010243287310004234,...  \n",
       "6   [-0.016406027600169182, -0.009464507922530174,...  \n",
       "7   [-0.01728230156004429, -0.02042453922331333, -...  \n",
       "8   [-0.015645071864128113, -0.010695029981434345,...  \n",
       "9   [-0.02019253931939602, -0.017759384587407112, ...  \n",
       "10  [-0.042294494807720184, -0.010479814372956753,...  \n",
       "11  [-0.021266061812639236, -0.01980443112552166, ...  \n",
       "12  [-0.027717620134353638, -0.01602592132985592, ...  \n",
       "13  [-0.02334144152700901, -0.0050522456876933575,...  \n",
       "14  [-0.0315837599337101, -0.014602532610297203, 0...  \n",
       "15  [-0.03804687783122063, -0.009411243721842766, ...  \n",
       "16  [-0.015403106808662415, -0.027021149173378944,...  \n",
       "17  [-0.024070419371128082, -0.01974225789308548, ...  \n",
       "18  [-0.04261258989572525, -0.011738312430679798, ...  \n",
       "19  [-0.02249719575047493, -0.011870142072439194, ...  "
      ]
     },
     "execution_count": 22,
     "metadata": {},
     "output_type": "execute_result"
    }
   ],
   "source": [
    "df2"
   ]
  },
  {
   "cell_type": "markdown",
   "metadata": {},
   "source": [
    "## Search"
   ]
  },
  {
   "cell_type": "code",
   "execution_count": 23,
   "metadata": {},
   "outputs": [],
   "source": [
    "def strings_ranked_by_relatedness(\n",
    "    query: str,\n",
    "    df: pd.DataFrame,\n",
    "    relatedness_fn=lambda x, y: 1 - spatial.distance.cosine(x, y),\n",
    "    top_n: int = 100\n",
    ") -> tuple[list[str], list[float]]:\n",
    "    \"\"\"Returns a list of strings and relatednesses, sorted from most related to least.\"\"\"\n",
    "    query_embedding_response = openai.Embedding.create(\n",
    "        model=EMBEDDING_MODEL,\n",
    "        input=query,\n",
    "    )\n",
    "    query_embedding = query_embedding_response[\"data\"][0][\"embedding\"]\n",
    "    strings_and_relatednesses = [\n",
    "        (row[\"text\"], relatedness_fn(query_embedding, row[\"embedding\"]))\n",
    "        for i, row in df.iterrows()\n",
    "    ]\n",
    "    strings_and_relatednesses.sort(key=lambda x: x[1], reverse=True)\n",
    "    strings, relatednesses = zip(*strings_and_relatednesses)\n",
    "    return strings[:top_n], relatednesses[:top_n]"
   ]
  },
  {
   "cell_type": "code",
   "execution_count": 25,
   "metadata": {},
   "outputs": [
    {
     "name": "stdout",
     "output_type": "stream",
     "text": [
      "relatedness=0.710\n"
     ]
    },
    {
     "data": {
      "text/plain": [
       "'2023 government forms regulation offering statement page 1united states securities exchange commission washington dc 20549 form 1a regulation offering statement securities act 1933 general instructions eligibility requirements use form 1a th form used securities erings made pursuant regulation 17 cfr 230251 et seq careful attention directed terms conditions requirements regulation especially rule 251 exemption available issuers every type securities transaction aggregate ering price aggregate sales securities 12month period strictly limited 20 million tier 1 erings 75 million tier 2 erings including 6 million ered selling securityholders affi liates issuer tier 1 erings 225 million selling securityholders affi liates issuer tier 2 erings please refer rule 251 regulation details ii preparation submission filing ering statement ering statement must prepared persons seeking exemption provisions reg ulation parts ii iii must addressed issuers part ii relates content required ering circular provides alternative formats issuer must choose one general informa tion regarding preparation format content submission fi ling ering statement contained rule 252 information regarding nonpublic submission ering statement contained rule 252 requirements relating ering circular contained rules 253 254 th e ering statement must submitted fi led securities exchange commission electronic format means com mission electronic data gathering analysis retrieval system edgar accordance edgar rules set forth regulation st 17 cfr part 232 submission fi ling iii incorporation reference crossreferencing issuer may incorporate reference documents previously submitted fi led edgar crossreferencing within ering statement also encouraged avoid repetition information exam ple may respond item form providing crossreference location information fi nancial statements instead repeating information incorporation reference crossreferencing subject following additional conditions th e use incorporation reference crossreferencing part ii form 1 limited following items items 214 part ii part fs following ering circular format b items 311 form s1 following part form s1 format c items 328 30 form s11 following part form s11 format omb approval omb number 32350286 expires september 30 2024estimated average burdenhours per response'"
      ]
     },
     "metadata": {},
     "output_type": "display_data"
    },
    {
     "name": "stdout",
     "output_type": "stream",
     "text": [
      "relatedness=0.696\n"
     ]
    },
    {
     "data": {
      "text/plain": [
       "'2023 government forms irrevocable appointment agent service process pleadings papers nonresident general partner broker dealer omb approval subject omb clearance 44 usc 3501 et seq united states secruities exchange commission washington dc 20459 form 10m irrevocable appointment agent service process pleadings papers nonresident general partner broker dealer ___________________________________________________________________________________________________________ form shall filed duplicate original ___________________________________________________________________________________________________________ 1 _________________________________________________________ of____ ________________________________________ name address full hereby designate appoint without power revocation united states securities exchange commission agent upon may served process pleadings papers civil suit action brought individually partner partnership engaged business broker dealer appropriate court place subject jurisdiction united states respect cause action accrues period beginning registration broker dealer partnership general partner becomes effective pursuant section 15 securities exchange act 1934 rules regulations thereunder ending either registration cancelled revoked commission receives notice withdraw registration whichever earlier b arises activity place subject jurisdiction united states occurring connection conduct business broker dealer c founded directly indirectly upon provisions securities act 1933 securities exchange act 1934 trust indenture act 1939 investment company act 1940 investment advisers act 1940 rule regulation said acts 2 hereby consent stipulate agree without power revocation civil suit action may commenced individually partner partnership engaged business broker dealer service process upon commission forwarding commission copy thereof registered mail lass address record filed commission b service process pleadings papers upon commission forwarding copy thereof registered mail last address record filed commission shall taken held courts valid binding due personal service made upon c service upon commission may effected delivering copies said process pleadings papers secretary commission person designated purpose certificate secretary commission person reciting said process pleadings papers received commission copy thereof forwarded last address record filed commission shall constitute evidence service upon witness whereof executed irrevocable power attorney consent stipulation agreement ____________________________________________________________________________________________________________ ___________________________day _________________________ ad ____________'"
      ]
     },
     "metadata": {},
     "output_type": "display_data"
    },
    {
     "name": "stdout",
     "output_type": "stream",
     "text": [
      "relatedness=0.690\n"
     ]
    },
    {
     "data": {
      "text/plain": [
       "'2023 government forms general form registration securities pursuant section 12 b g omb approval omb number 32350064 expires pwfnber 3 202 estimated average burden hours per response 20038 united states securities exchange commission washington dc 20549 form 10 general form registration securities pursuant section 12 b g securities exchange act 1934 exact name registrant speci ed charter state jurisdiction incorporation organization irs employer identi cation address principal executive ൶ces registrant telephone number including area code zip code securities registered pursuant section 12 b act title class registered name exchange class registered securities registered pursuant section 12 g act title class title class indicate check mark whether registrant large accelerated ler accelerated ler nonaccelerated ler smaller reporting company emerging growth company see de nitions large accelerated ler accelerated ler smaller reporting company emerging growth company rule 12b2 exchange act large accelerated ler accelerated ler nonaccelerated ler smaller reporting company emerging growth company emerging growth company indicate check mark registrant elected use extended transition period complying new revised nancial accounting standards provided pursuant section 13 exchange act persons respond collection information contained form required respond unless form displays currently valid omb control sec 1396 0 number information required registration statement item 1 business furnish information required item 101 regulation sk 229101 chapter item 1a risk factors set forth caption risk factors appropriate risk factors described item 105 regulation sk 229105 chapter applicable registrant provide discussion risk factors plain english accordance rule 421 securities act 1933 230421 chapter smaller reporting companies required provide information required item item 2 financial information furnish information required items 303 305 regulation sk 229303 229305 chapter item 3 properties furnish information required item 102 regulation sk 229102 chapter item 4 security ownership certain bene cial owners management furnish information required item 403 regulation sk 229403 chapter item 5 directors executive ൶cers furnish information required item 401 regulation sk 229401 chapter item 6 executive compensation furnish information required item 402 regulation sk 229402 chapter paragraph e 4 item 407 regulation sk 229407 chapter item 7 certain relationships related transactions director independence furnish information required item 404 regulation sk 229404 chapter item 407 regulation sk 229407 chapter item 8 legal proceedings furnish information required item 103 regulation sk 229103 chapter item 9 market price dividends registrant common equity related stockholder matters'"
      ]
     },
     "metadata": {},
     "output_type": "display_data"
    },
    {
     "name": "stdout",
     "output_type": "stream",
     "text": [
      "relatedness=0.686\n"
     ]
    },
    {
     "data": {
      "text/plain": [
       "'2023 government forms notification late filing form 12b 25 notification late filing united states securities exchange commission washington dc 20549 read instruction back page preparing form please print type nothing form shall construed imply commission veriﬁed information contained herein persons respond collection information contained form required respond unless form displays currently valid omb control number check one form 10 k form 20 f form 11 k form 10 q form 10 form n cen form n csr period ended transition report form 10 k transition report form 20 f transition report form 11 k transition report form 10 q transition period ended notiﬁcation relates portion ﬁling checked identify item notiﬁcation relates part registrant information full name registrant former name applicable address principal executive office street number city state zip code part ii rules 12b 25 b c subject report could ﬁled without unreasonable effort expense registrant seeks relief pursuant rule 12b25 b following completed check box appropriate reason described reasonable detail part iii form could eliminate without unreasonable effort expense b subject annual report semi annual report transition report form 10k form 20f form 11k form ncen form n csr portion thereof ﬁled ﬁfteenth calendar day following prescribed due date subject quarterly report transition report form 10 q subject distribution report form 10d portion thereof wi ﬁled ﬁfth calendar day following prescribed due date c accountant statement exhibit required rule 12b 25 c attached applicable sec 1344 0619 omb approval omb number 3235 0058 expires april 30 2025 estimated average burden hours per response 250 sec file number cusip number 2 part iii narrative state reasonable detail forms 10k 20f 11k 10 q 10d ncen ncsr transition report portion thereof could ﬁled within prescribed time period attach extra sheets needed part iv information date 1 name telephone number person contact regard notiﬁcation name area code telephone number 2 periodic reports required section 13 15 securities exchange act 1934 section 30 investment company act 1940 preceding 12 months shorter period registrant required ﬁle report ﬁled answer identify report yes 3 anticipated signiﬁcant change results operations corresponding period last ﬁscal year reﬂected earnings statements included subject report portion thereof yes attach explanation anticipated change narratively quantitatively appropriate state reasons reasonable estimate results made name registrant speciﬁed charter caused notiﬁcation signed behalf undersigned hereunto duly authorized instruction form may signed executive ofﬁcer registrant duly authorized representative'"
      ]
     },
     "metadata": {},
     "output_type": "display_data"
    },
    {
     "name": "stdout",
     "output_type": "stream",
     "text": [
      "relatedness=0.685\n"
     ]
    },
    {
     "data": {
      "text/plain": [
       "'2023 government forms notification regulation e may send completed printout form sec satisfy filing obligat ion satisfy sec filing obligation submitting information required form sec electronic format online https wwwedgarfilingsecgov united states securities exchange commission washington dc 20549 form 1e omb approval omb number 3235 0232 expires february 28 2025 estimated average burden hours per response 1000 notification regulation e item 1 issuer state exact name issuer address street city state principal business office item 2 affiliates principal security holders issuer list full name complete address following persons affiliate issuer indicating nature affiliation b person owns record known beneficially ten percent outstanding securities class issuer stating title amount owned person item 3 directors officers list full name complete residence address following persons director issuer b officer issuer indicating positions offices held issuer c investment adviser item 4 counsel issuer underwriters give name address counsel issuer connection proposed offering furnish similar information counsel underwriters item 5 events making exemption unavailable state whether event specified rule 602 b c reg 230602 occurred would make exemption regulation unavailable securities issuer absence waiver commission pursuant rule 602 e reg 230602 item 6 jurisdictions securities offered list names states jurisdictions securities covered notification proposed offered underwriters dealers salesmen jurisdictions b offering made advertisements mail telephone otherwise states jurisdictions listed describe methods proposed employed making offering therein list states jurisdictions extent known note securities shall offered sold state jurisdiction amendment notification filed listing names additional jurisdictions item 7 unregistered securities issued sold within one year unregistered securities issued issuer within one year prior filing notification state title amount securities issued ii aggregate offering price consideration issued basis computing amount thereof iii names persons identity class persons securities issued b unregistered securities issuer sold within one year prior filing notification account person time director officer principal security holder issuer underwriter securities issuer furnish information specified iii paragraph persons respond collection information contained form required respond unless form displays currently valid omb control number sec 1807 8 01 c indicate section act rule regulation commission exemption registration claimed respect securities state briefly facts relied upon exemption item 8 present proposed offerings state whether issuer presently offering presently contemplates offering securities addition covered notification describe fully present proposed offering item 9 exhibits'"
      ]
     },
     "metadata": {},
     "output_type": "display_data"
    }
   ],
   "source": [
    "strings, relatednesses = strings_ranked_by_relatedness(\"curling gold medal\", df1, top_n=5)\n",
    "for string, relatedness in zip(strings, relatednesses):\n",
    "    print(f\"{relatedness=:.3f}\")\n",
    "    display(string)"
   ]
  },
  {
   "cell_type": "markdown",
   "metadata": {},
   "source": [
    "## Ask the model"
   ]
  },
  {
   "cell_type": "code",
   "execution_count": 26,
   "metadata": {},
   "outputs": [],
   "source": [
    "def num_tokens(text: str, model: str = GPT_MODEL) -> int:\n",
    "    \"\"\"Return the number of tokens in a string.\"\"\"\n",
    "    encoding = tiktoken.encoding_for_model(model)\n",
    "    return len(encoding.encode(text))\n",
    "\n",
    "\n",
    "def query_message(\n",
    "    query: str,\n",
    "    df: pd.DataFrame,\n",
    "    model: str,\n",
    "    token_budget: int\n",
    ") -> str:\n",
    "    \"\"\"Return a message for GPT, with relevant source texts pulled from a dataframe.\"\"\"\n",
    "    strings, relatednesses = strings_ranked_by_relatedness(query, df)\n",
    "    introduction = 'Use the below articles on the 2023 Government Forms to answer the subsequent question. If the answer cannot be found in the articles, write \"I could not find an answer.\"'\n",
    "    question = f\"\\n\\nQuestion: {query}\"\n",
    "    message = introduction\n",
    "    for string in strings:\n",
    "        next_article = f'\\n\\nGovernment Article Section:\\n\"\"\"\\n{string}\\n\"\"\"'\n",
    "        if (\n",
    "            num_tokens(message + next_article + question, model=model)\n",
    "            > token_budget\n",
    "        ):\n",
    "            break\n",
    "        else:\n",
    "            message += next_article\n",
    "    return message + question\n",
    "\n",
    "\n",
    "def ask(\n",
    "    query: str,\n",
    "    df: pd.DataFrame = df2,\n",
    "    model: str = GPT_MODEL,\n",
    "    token_budget: int = 1000,\n",
    "    print_message: bool = False,\n",
    ") -> str:\n",
    "    \"\"\"Answers a query using GPT and a dataframe of relevant texts and embeddings.\"\"\"\n",
    "    message = query_message(query, df, model=model, token_budget=token_budget)\n",
    "    if print_message:\n",
    "        print(message)\n",
    "    messages = [\n",
    "        {\"role\": \"system\", \"content\": \"You answer questions about the 2023 Government Forms.\"},\n",
    "        {\"role\": \"user\", \"content\": message},\n",
    "    ]\n",
    "    response = openai.ChatCompletion.create(\n",
    "        model=model,\n",
    "        messages=messages,\n",
    "        temperature=0\n",
    "    )\n",
    "    response_message = response[\"choices\"][0][\"message\"][\"content\"]\n",
    "    return response_message"
   ]
  },
  {
   "cell_type": "markdown",
   "metadata": {},
   "source": [
    "## Example Questions"
   ]
  },
  {
   "cell_type": "code",
   "execution_count": 27,
   "metadata": {},
   "outputs": [
    {
     "data": {
      "text/plain": [
       "'The eligibility requirement for using Form 1-A is that the form can be used for securities offerings made pursuant to Regulation A (17 CFR 230.251 et seq).'"
      ]
     },
     "execution_count": 27,
     "metadata": {},
     "output_type": "execute_result"
    }
   ],
   "source": [
    "ask('What is the eligibility requirement for using Form 1-A?')"
   ]
  },
  {
   "cell_type": "code",
   "execution_count": 28,
   "metadata": {},
   "outputs": [
    {
     "data": {
      "text/plain": [
       "'I could not find an answer.'"
      ]
     },
     "execution_count": 28,
     "metadata": {},
     "output_type": "execute_result"
    }
   ],
   "source": [
    "ask(\"Where was the UEFA Champions League final in 2023\")"
   ]
  },
  {
   "cell_type": "code",
   "execution_count": 29,
   "metadata": {},
   "outputs": [
    {
     "data": {
      "text/plain": [
       "'The form for filing a semiannual report pursuant to Regulation A is Form 1SA.'"
      ]
     },
     "execution_count": 29,
     "metadata": {},
     "output_type": "execute_result"
    }
   ],
   "source": [
    "ask(\"What is the form for filing a semiannual report pursuant to Regulation A\")"
   ]
  },
  {
   "cell_type": "code",
   "execution_count": 30,
   "metadata": {},
   "outputs": [
    {
     "data": {
      "text/plain": [
       "\"The Commission requires certain information regarding the operation of the security futures product exchange on the Form 1-N. This includes information about the exchange's operation, documents containing information satisfying the Commission's information requirements, and updates on certain information on a periodic basis.\""
      ]
     },
     "execution_count": 30,
     "metadata": {},
     "output_type": "execute_result"
    }
   ],
   "source": [
    "ask(\"What information does the Commission require on the Form 1-N\")"
   ]
  }
 ],
 "metadata": {
  "kernelspec": {
   "display_name": ".venv",
   "language": "python",
   "name": "python3"
  },
  "language_info": {
   "codemirror_mode": {
    "name": "ipython",
    "version": 3
   },
   "file_extension": ".py",
   "mimetype": "text/x-python",
   "name": "python",
   "nbconvert_exporter": "python",
   "pygments_lexer": "ipython3",
   "version": "3.11.4"
  },
  "orig_nbformat": 4
 },
 "nbformat": 4,
 "nbformat_minor": 2
}
